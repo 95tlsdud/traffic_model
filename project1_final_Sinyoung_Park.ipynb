{
 "cells": [
  {
   "cell_type": "markdown",
   "metadata": {},
   "source": [
    "# Project Instruction\n",
    "\n",
    "- Please rename this file so that you know which copy you have been working in. Keep a copy safe (especially if you are working in the online Jupyter service). You can download a copy by choosing -File- then -Download as- Notebook from the menu above. \n",
    "- Complete all of the tasks. \n",
    "- Make sure your code is readable, organised, and commented appropriately."
   ]
  },
  {
   "cell_type": "markdown",
   "metadata": {},
   "source": [
    "---"
   ]
  },
  {
   "cell_type": "markdown",
   "metadata": {},
   "source": [
    "## Task 1 - Code review"
   ]
  },
  {
   "cell_type": "markdown",
   "metadata": {},
   "source": [
    "This task is to write a code review, *not* to write python code to solve the problem brief.  \n",
    "\n",
    "A colleague has been asked to write a program to calculate a root of a continuous function using the **bisection method** as described in the following brief:\n",
    "\n",
    "---\n",
    "\n",
    "### Brief\n",
    "\n",
    "The bisection method is a simple numerical technique to find a root of a continuous function in an interval where this function changes sign. According to [Intermediate value theorem](https://en.wikipedia.org/wiki/Intermediate_value_theorem), the continuous function $f=f(x)$ has at least one root in the interval $[a, b]$, if $f(a)f(b) \\leq 0$. Utilising this fact, the following 3-step algorithm will find the root of such function within a desired accuracy:\n",
    "\n",
    "1. Calculate the midpoint $c = (a+b)/2$ and evaluate the function at this point $f(c)$.\n",
    "2. If $ (b-a)/2 < \\epsilon_1 $ or $|f(c)| < \\epsilon_2 $, then return $c$ as the root and stop. \n",
    "3. Otherwise, depending on the sign of $f(c)$ replace either $a$ or $b$ with $c$, such that $f(a)f(b) < 0$ for the new $a$ and $b$. Then go to step 1.\n",
    "\n",
    "The criteria introduced in step 2 ensures the difference between the answer and the real root to be less than $\\epsilon_1$ or _that_ the function value at the answer is smaller than $\\epsilon_2$ (so it can be considered an approximate root). You are supposed to write a function that takes $a$, $b$, $\\epsilon_1$ and $\\epsilon_2$ as inputs and returns a root using the bisection method. \n",
    "\n",
    "Note that the bisection method does not guarantee or detect a change of sign in an interval if the two end points have similar signs. Hence, your program should first search for some subinterval where the function changes sign. This can be achieved by halving the intervals consecutively until in one of the smaller subinterval the function changes sign. If no such an interval is found while the size of the smallest interval is still bigger than $\\epsilon_1$, the function returns 'None' and prints out \"failed to find a root\". \n",
    "\n",
    "Test your code for a continuous function on a given interval.  \n",
    "\n",
    "### Your task:\n",
    "\n",
    "You have been asked to write a review of their code. Here is the code they wrote:"
   ]
  },
  {
   "cell_type": "code",
   "execution_count": 1,
   "metadata": {},
   "outputs": [
    {
     "name": "stdout",
     "output_type": "stream",
     "text": [
      "1.0\n",
      "the root is 1.0\n"
     ]
    }
   ],
   "source": [
    "from math import *\n",
    "\n",
    "def root_finder(a,b,eps1,eps2):\n",
    "# First find an interval where the function changes sign\n",
    "    if ff(a)*ff(b)>0:\n",
    "        findinterval = 0\n",
    "    else:\n",
    "            findinterval = 1\n",
    "        \n",
    "    n = 2;\n",
    "    while (findinterval == 0) and ( (b-a)/n > eps1):\n",
    "        subintervals =[a + i*(b-a)/n for i in range(n+1)]\n",
    "        print(subintervals)\n",
    "        n *= 2\n",
    "        for j in range(n):\n",
    "            i = j + 1\n",
    "            if (ff(subintervals[i])<0):\n",
    "                a = subintervals[i-1]\n",
    "                b = subintervals[i]\n",
    "                findinterval = 1.0\n",
    "                break\n",
    "   \n",
    "        \n",
    "    if (findinterval == 0):\n",
    "        print(\"failed to find a root\")\n",
    "    else:\n",
    "        # implement the bisection method\n",
    "        if (abs(ff(a))<eps2): # check if a or b are roots:\n",
    "            return a\n",
    "        if (abs(ff(b))<eps2):\n",
    "            # print(b)\n",
    "            return b\n",
    "        while ((b-a) > eps1): \n",
    "            c = (a+b)/2\n",
    "            print(c)\n",
    "            if (ff(c)<eps2):\n",
    "                return c\n",
    "            else:\n",
    "                if ff(b)*ff(c)>0:\n",
    "                    b = c\n",
    "                else:\n",
    "                        a = c\n",
    "        return c\n",
    "    \n",
    "                                \n",
    "def ff(x):\n",
    "    y = x**2-5*x+4 \n",
    "    # y = sin(2*pi*x)\n",
    "    return y\n",
    "    \n",
    " # Test for x^2-5x+4 from 0 to 2 \n",
    "my_root = root_finder(0,2,.0001,0.00001)\n",
    "print('the root is', my_root)"
   ]
  },
  {
   "cell_type": "code",
   "execution_count": 2,
   "metadata": {},
   "outputs": [
    {
     "name": "stdout",
     "output_type": "stream",
     "text": [
      "[2.0, 2.5, 3.0]\n",
      "2.25\n",
      "the root is 2.25\n"
     ]
    }
   ],
   "source": [
    "# Test for x^2-5x+4 from 2 to 3 \n",
    "my_root = root_finder(2,3,.0001,0.00001)\n",
    "print('the root is', my_root)"
   ]
  },
  {
   "cell_type": "code",
   "execution_count": 3,
   "metadata": {},
   "outputs": [
    {
     "name": "stdout",
     "output_type": "stream",
     "text": [
      "1.5\n",
      "the root is 1.5\n"
     ]
    }
   ],
   "source": [
    "# Test for x^2-5x+4 from 0 to 3 \n",
    "my_root = root_finder(0,3,.0001,0.00001)\n",
    "print('the root is', my_root)"
   ]
  },
  {
   "cell_type": "code",
   "execution_count": 4,
   "metadata": {},
   "outputs": [
    {
     "name": "stdout",
     "output_type": "stream",
     "text": [
      "the root is 1\n"
     ]
    }
   ],
   "source": [
    "# Test for x^2-5x+4 from 1 to 4\n",
    "my_root = root_finder(1,4,.0001,0.00001)\n",
    "print('the root is', my_root)"
   ]
  },
  {
   "cell_type": "markdown",
   "metadata": {},
   "source": [
    "You should write your review here. \n",
    "Things you could choose to discuss:\n",
    "- Code structure \n",
    "- Code style\n",
    "- Does it answer the brief?\n",
    "- Does it work? If not_,_ could it be fixed?\n",
    "- Can you explain what it does?\n",
    "\n",
    "Keep your answer relatively brief (approx. 500 words)."
   ]
  },
  {
   "cell_type": "markdown",
   "metadata": {},
   "source": [
    "### Answer:"
   ]
  },
  {
   "cell_type": "markdown",
   "metadata": {},
   "source": [
    "- Code structure and style\n",
    "\n",
    " Most of this code is to check the condition. So, there exist 'if' statements.\n",
    "\n",
    " To compute repeatedly when (findinterval == 0) and ( (b-a)/n > eps1) is true, it takes 'while' loop.\n",
    " \n",
    " To find subinterval related to a + i*(b-a)/n, where a, b and n are given data and changing i from 0 to n+1, it take 'for' loop.\n",
    "\n",
    "- Does it answer the brief?\n",
    "\n",
    " When I run root_finder(0,2,.0001,0.00001), it is quite brief. However, When I run root_finder(2,3,.0001,0.00001), it prints subinterval, c and 'the root is _sth_'.\n",
    "\n",
    "\n",
    "\n",
    "- It does not work properly. There are some problems in this function. \n",
    "\n",
    "(1) When I run root_finder(2,3,.0001,0.00001), it returns that 'the root is 2.25'. However there is no root in interval [2,3]. So, we need to change it as returning \"None\" and print \"fail to find a root\".  We could change it as adding some code in the first while loop. In that while loop, there is a 'for loop' and in 'for loop' there is an 'if statement'. In 'if statement', we assign new values a and b, but we do not check that f(a) * f(b) is positive or negative. So, we need the code to check it. I added\n",
    "\n",
    "         if ff(a) * ff(b) < 0:      \n",
    "             findinterval = 1.0\n",
    "\n",
    "under where we assign new variables a and b to check that  ff(a) and ff(b) have different signs. If they have different signs, we assign findinterval is 0. If not, running while loop again and at the end we get None and print \"fail to find a root\"\n",
    "\n",
    "\n",
    "(2) When I run root_finder(0,3,.0001,0.00001), the error between real root and return value is quite big. For example, we can get a root as 1 in interval [0,3], but when I run the code it says that the root is 1.5. There exists a quite big error. So, we need to change it in order to get reasonable root. We could change it as adding abs() in 'if statement' in the second 'while loop'. Actually, we have if (ff(c)<eps2):, but we have to change it as if (abs(ff(c))<eps2): to get accurate root. In the brief instruction above the root_finder function, it says that $|f(c)| < \\epsilon_2 $. So, we have to change it in order to get accurate root. For example, when I run root_finder(0,3,.0001,0.00001), we get 1.5. On the other hand, when I run root_finder_modified(0,3,.0001,0.00001), we get 1.000030517578125.\n",
    "\n",
    "\n",
    "(3) Interval which starts with one of the roots or ends with one of the roots or both.\n",
    "\n",
    " When I run root_finder(1,4, eps1, eps2), it returns only 4. However in real world, we could easily find that x^2-5x+4 = 0 has two roots as 1 and 4. So, I want to get 2 roots in this function. I could change the code to get two roots. In 'if statement' related to (findinterval == 1), we could add some conditions to get two roots. When both abs(ff(a)) and abs(ff(b)) are smaller than eps2, it means that a and b are roots. If one of them is smaller than eps2, it is a root and we have to find if there is another root in this interval. To check this, I recall the function again. For example, when I run root_finder_modified(0,4, eps1, eps2) there are two roots 1 and 4 in this interval. So making code for returning 4 if abs(ff(4)) < eps2 and find another root as x = root_finder_modified(0,(0+4)/2,eps1, eps2). At the end of this conditional statement, it should return x and b.\n",
    "\n",
    "\n",
    "(4) In the first 'while loop', we have to change 'for j in range(n): ' to 'for j in range(2):'. The reason is that when we run root_finder(0,10, eps1, eps2), it has an error like \"out of range\". Above this line, we assign n as n * 2. So we have to change n to 2."
   ]
  },
  {
   "cell_type": "code",
   "execution_count": 5,
   "metadata": {},
   "outputs": [
    {
     "name": "stdout",
     "output_type": "stream",
     "text": [
      "the root is 1.0\n"
     ]
    }
   ],
   "source": [
    "from math import *\n",
    "\n",
    "def root_finder_modified(a,b,eps1,eps2):\n",
    "# First find an interval where the function changes sign\n",
    "    if ff(a)*ff(b)>0:\n",
    "        findinterval = 0\n",
    "    else:\n",
    "            findinterval = 1\n",
    "        \n",
    "    n = 2;\n",
    "    while (findinterval == 0) and ( (b-a)/n > eps1):\n",
    "        subintervals =[a + i*(b-a)/n for i in range(n+1)]\n",
    "        #print(subintervals)\n",
    "        n *= 2\n",
    "        for j in range(2):\n",
    "            i = j + 1\n",
    "            if (ff(subintervals[i])<0):\n",
    "                a = subintervals[i-1]\n",
    "                b = subintervals[i]\n",
    "                \n",
    "                #(1)\n",
    "                #When ff(a) and ff(b) have different signs, assign findinterval as 1\n",
    "                #If not, looping again in 'while' and there is no interval to get different signs,\n",
    "                #we have to return None and print \"failed to find a root\"\n",
    "                \n",
    "                if ff(a) * ff(b) < 0:  \n",
    "                    findinterval = 1.0\n",
    "                break\n",
    "   \n",
    "        \n",
    "    if (findinterval == 0):\n",
    "        print(\"failed to find a root\")\n",
    "    else:\n",
    "        # implement the bisection method\n",
    "        #(3)\n",
    "        if (abs(ff(a))<eps2) and (abs(ff(b))<eps2): # check if a or b are roots:\n",
    "            return a, b\n",
    "        elif (abs(ff(a))<eps2):\n",
    "            x = root_finder_modified((a+b)/2,b,eps1,eps2)\n",
    "            return a, x\n",
    "        elif (abs(ff(b))<eps2):\n",
    "            x = root_finder_modified(a,(a+b)/2,eps1, eps2)\n",
    "            # print(b)\n",
    "            return x, b\n",
    "        while ((b-a) > eps1): \n",
    "            c = (a+b)/2\n",
    "            #print(c)\n",
    "            if (abs(ff(c))<eps2):  #(2) in this line, i added abs() function\n",
    "                return c\n",
    "            else:\n",
    "                if ff(b)*ff(c)>0:\n",
    "                    b = c\n",
    "                else:\n",
    "                        a = c\n",
    "        return c\n",
    "    \n",
    "                                \n",
    "def ff(x):\n",
    "    y = x**2-5*x+4 \n",
    "    # y = sin(2*pi*x)\n",
    "    return y\n",
    "    \n",
    " # Test for x^2-5x+4 from 0 to 2 \n",
    "my_root = root_finder_modified(0,2,.0001,0.00001)\n",
    "print('the root is', my_root)"
   ]
  },
  {
   "cell_type": "code",
   "execution_count": 6,
   "metadata": {},
   "outputs": [
    {
     "name": "stdout",
     "output_type": "stream",
     "text": [
      "failed to find a root\n",
      "the root is None\n"
     ]
    }
   ],
   "source": [
    "# Test for x^2-5x+4 from 2 to 3 \n",
    "my_root = root_finder_modified(2,3,.0001,0.00001)\n",
    "print('the root is', my_root)"
   ]
  },
  {
   "cell_type": "code",
   "execution_count": 7,
   "metadata": {},
   "outputs": [
    {
     "name": "stdout",
     "output_type": "stream",
     "text": [
      "the root is 1.000030517578125\n"
     ]
    }
   ],
   "source": [
    "# Test for x^2-5x+4 from 0 to 3 \n",
    "my_root = root_finder_modified(0,3,.0001,0.00001)\n",
    "print('the root is', my_root)"
   ]
  },
  {
   "cell_type": "code",
   "execution_count": 8,
   "metadata": {},
   "outputs": [
    {
     "name": "stdout",
     "output_type": "stream",
     "text": [
      "the root is (1, 4)\n"
     ]
    }
   ],
   "source": [
    "# Test for x^2-5x+4 from 1 to 4\n",
    "my_root = root_finder_modified(1,4,.0001,0.00001)\n",
    "print('the root is', my_root)"
   ]
  },
  {
   "cell_type": "markdown",
   "metadata": {},
   "source": [
    "---"
   ]
  },
  {
   "cell_type": "markdown",
   "metadata": {
    "collapsed": true
   },
   "source": [
    "## Task 2 - Traffic Modelling"
   ]
  },
  {
   "cell_type": "markdown",
   "metadata": {},
   "source": [
    "### Task 2a - update rule"
   ]
  },
  {
   "cell_type": "markdown",
   "metadata": {},
   "source": [
    "For this task, you will work on a model of road traffic using discretised cells, which is an example of a larger class of models in computer science called [cellular automaton](https://en.wikipedia.org/wiki/Cellular_automaton). Imagine a road that is divided into a number of cells which can contain only one car. For now, let's assume this road is one-way from left to right. We also discretise time into steps. At each step a car moves to its adjacent right cell if it is empty; otherwise, it stays where it is (see the figure below). \n",
    "\n",
    "![](schematicroad.png)\n",
    "\n",
    "We use a periodic boundary condition such that a car that moves off the right-most cell enters into the left-most cell as shown by the red arrow in the schematic above (if you like you can think of this problem as representing a roundabout rather than a straight section of a road).\n",
    "\n",
    "You should write a function that finds the position of cars in the next step given their positions in the current step. To do this systematically, we can define the numpy array `R[i,t]` that is 0 if there are no cars in the \"`i`\" section of the road, and 1 if a car is present at that section for the time step \"`t`\". \"`i`\" varies from 1 to $N$ (the total number of cells), and \"`t`\" varies from 0 to $T$. The new value `R[i,t+1]` depends on its old value at time $t$ (i.e. `R[i,t]`), and also on the old values of the neighbours (`R[i-1,t]` and `R[i+1,t]`). You might think about how you would fill out the tables below (on paper - no need to edit the table in your file) to use them to get an explicit form of the update rules (note we use notation here that `R[i,t]` is the same as $R^t(i)$ below):\n",
    "\n",
    "![](tables.png)\n",
    "\n",
    "\n",
    "To test your update function you can use the following example of a road with 9 cells. If we label the cars by their initial cell position, this demonstrates how they move in the next three steps. \n",
    "\n",
    "![](roadexample.png)\n",
    "\n",
    "The array `R`, for this example, becomes \n",
    "\n",
    "$$\n",
    "\\left(\\begin{array}{cccc}\n",
    "1 & 0 & 1 & 0\\\\\n",
    "0 & 1 & 0 & 1\\\\\n",
    "0 & 0 & 1 & 1\\\\\n",
    "1 & 1 & 1 & 0\\\\\n",
    "1 & 1 & 0 & 1\\\\\n",
    "1 & 0 & 1 & 0\\\\\n",
    "0 & 1 & 0 & 1\\\\\n",
    "0 & 0 & 1 & 0\\\\\n",
    "1 & 1 & 0 & 1\\\\\n",
    "\\end{array}\\right)\n",
    "$$\n",
    "\n",
    "Throughout this project, let's denote the total number of cells by $N$, the total number of cars by $M$ and the final time step by $T$.\n",
    "\n",
    "For the first part of this task you should write code to perform each of the following sub-tasks or markdown text to answer any discussion questions:\n",
    "\n",
    "1) Write a function **`updateR(R[i,t])`**, which takes **`R[i,t]`** at the current time step as its argument and returns the updated value **`R[i,t+1]`** for the next step. Make sure you properly implement the periodic boundary condition in this function. Test your function with the example above. Your function should work for any choice of positive integer $N>3$.\n",
    "\n",
    "2) Numbering your cells from $1$ to $N=100$, put the cars initially (at $t=0$) in those cells with a prime number index and also the cells in $(40,55]$. Calculate and print out the position of the cars at the final time $T = 400$.\n",
    "\n",
    "3) Plot the position of the cars from problem 2) in the following three time intervals: $t=[0, 20]$, $[300, 320]$ and $[380, 400]$. Discuss whether you think that the traffic reaches some steady state by the end of the simulation. What is the average velocity of all the cars at the end of the simulation? Note you can either point markers in `plot`, or use the plotting function `imshow` to create a checkerboard-like plot."
   ]
  },
  {
   "cell_type": "code",
   "execution_count": 9,
   "metadata": {},
   "outputs": [],
   "source": [
    "### 2a - 1\n",
    "\n",
    "import numpy as np\n",
    "\n",
    "R = np.array([[1,0,0,1,1,1,0,0,1]])\n",
    "\n",
    "\n",
    "# Making updateR() function to get when time is t+1\n",
    "# Thinking as a row and at the end I will change it to column vector using np.transpose\n",
    "\n",
    "\n",
    "def updateR(R):\n",
    "    '''\n",
    "    Return new R related given R\n",
    "    '''\n",
    "    n_col = R.shape[1]         # the number of columns in matrix R\n",
    "    new_row = []               # to make an output as a new row of R, I made a empty list.\n",
    "                               # and I will append the values which I have got to new_row\n",
    "        \n",
    "    for i in range(n_col):     # repeat it as much as n_col\n",
    "        R_r = R[0]             # extract the first row from R as R_r\n",
    "        \n",
    "\n",
    "    # I divided into 3 conditions to check the conditions and find the right value\n",
    "    # using the table, I could divide the condition easily.\n",
    "    \n",
    "        if i == 0:\n",
    "            if R_r[i] == 1 and R_r[i+1] == 1:\n",
    "                new_row.append(1)\n",
    "            elif R_r[i] == 1 and R_r[i+1] == 0:\n",
    "                new_row.append(0)\n",
    "            elif R_r[i] == 1 and R_r[-1] == 1:\n",
    "                new_row.append(1)\n",
    "            elif R_r[i] == 0 and R_r[-1] == 0:\n",
    "                new_row.append(0)\n",
    "            elif R_r[i] == 0 and R_r[-1] == 1:\n",
    "                new_row.append(1)\n",
    "                \n",
    "                \n",
    "        elif 0 < i < n_col - 1:\n",
    "            if R_r[i] == 0 and R_r[i-1] == 0:\n",
    "                new_row.append(0)\n",
    "            elif R_r[i] == 1 and R_r[i+1] == 0:\n",
    "                new_row.append(0)\n",
    "            elif R_r[i] == 1 and R_r[i+1] == 1:\n",
    "                new_row.append(1)\n",
    "            elif R_r[i-1] == 1:\n",
    "                new_row.append(1)\n",
    "                \n",
    "                \n",
    "        elif i == n_col-1:\n",
    "            if R_r[i] == 1 and R_r[0] == 0:\n",
    "                new_row.append(0)\n",
    "            elif R_r[i] == 0 and R_r[i-1] == 0:\n",
    "                new_row.append(0)\n",
    "            elif R_r[i] == 1 and R_r[0] == 0:\n",
    "                new_row.append(0)\n",
    "            elif R_r[i] == 1 and R_r[0] == 1:\n",
    "                new_row.append(1)\n",
    "            elif R_r[i] == 0 and R_r[i-1] == 1:\n",
    "                new_row.append(1)\n",
    "    \n",
    "    rr = np.array([new_row])  # to make a matrix, do np.array()\n",
    "    \n",
    "\n",
    "    return rr"
   ]
  },
  {
   "cell_type": "code",
   "execution_count": 10,
   "metadata": {},
   "outputs": [
    {
     "name": "stdout",
     "output_type": "stream",
     "text": [
      "[[1 0 1 0 1 1 0 1 0 1 0]\n",
      " [0 1 0 1 1 0 1 0 1 0 1]\n",
      " [0 0 1 1 0 1 0 1 0 1 0]\n",
      " [1 1 1 0 1 0 1 0 1 0 1]\n",
      " [1 1 0 1 0 1 0 1 0 1 1]\n",
      " [1 0 1 0 1 0 1 0 1 1 0]\n",
      " [0 1 0 1 0 1 0 1 1 0 1]\n",
      " [0 0 1 0 1 0 1 1 0 1 0]\n",
      " [1 1 0 1 0 1 1 0 1 0 1]]\n"
     ]
    }
   ],
   "source": [
    "# using updateR() function, we can make a matrix.\n",
    "def making_matrix(R,t):\n",
    "    '''\n",
    "    making a matrix of given R and stack it into the original.\n",
    "    repeat as much as t times.\n",
    "    '''\n",
    "    \n",
    "    R2 = np.copy(R)            # not to lose the R, copy it as R2\n",
    "    \n",
    "    for i in range(t):         # test integer i from 0 to time t\n",
    "        R = updateR(R)         \n",
    "        R2 = np.row_stack((R2,R))  # stack R into R2\n",
    "        \n",
    "    return np.transpose(R2)  \n",
    "# to get the same matrix, I did transpose it.\n",
    "# The reason is that as I have already mentioned, I think it as a row vector not column.\n",
    "# So, I have to transpose it.\n",
    "\n",
    "r2 = updateR(R)\n",
    "\n",
    "# test when t = 10\n",
    "print(making_matrix(R,10))"
   ]
  },
  {
   "cell_type": "markdown",
   "metadata": {},
   "source": [
    "2) Numbering your cells from $1$ to $N=100$, put the cars initially (at $t=0$) in those cells with a prime number index and also the cells in $(40,55]$. Calculate and print out the position of the cars at the final time $T = 400$."
   ]
  },
  {
   "cell_type": "code",
   "execution_count": 11,
   "metadata": {},
   "outputs": [],
   "source": [
    "### 2a - 2\n",
    "\n",
    "def is_prime(n):\n",
    "    \"\"\"\n",
    "    Return whether an input positive integer is prime.\n",
    "    \"\"\"\n",
    "    \n",
    "    if n == 1:        # If n is 1 ...\n",
    "        return False  # ... then n is not prime\n",
    "    \n",
    "    for i in range(2, n):  # Test integers i from 2 to n - 1 inclusive\n",
    "        if n % i == 0:     # If n is divisible by i ...\n",
    "            return False   # ... then n is not prime\n",
    "    # If n is not divisible by any integers from 2 to n - 1 inclusive then n is\n",
    "    # prime\n",
    "    return True\n",
    "\n",
    "# is_prime(n) : from Numerical Linear Algebra project1"
   ]
  },
  {
   "cell_type": "code",
   "execution_count": 12,
   "metadata": {},
   "outputs": [
    {
     "name": "stdout",
     "output_type": "stream",
     "text": [
      "[[0. 0. 0. ... 1. 0. 1.]\n",
      " [1. 1. 0. ... 0. 1. 0.]\n",
      " [1. 0. 1. ... 1. 0. 1.]\n",
      " ...\n",
      " [0. 1. 0. ... 0. 0. 0.]\n",
      " [0. 0. 1. ... 1. 0. 0.]\n",
      " [0. 0. 0. ... 0. 1. 0.]]\n"
     ]
    }
   ],
   "source": [
    "def make_new_R(N):\n",
    "    '''\n",
    "    making a matrix with length N\n",
    "    put 1 when it is prime number\n",
    "    '''\n",
    "    row = np.zeros(N)   # making a vector with N zeros \n",
    "    for i in range(N):\n",
    "        if 39 < i <= 54:   # in (40, 55] interval we put the value 1\n",
    "            row[i] = 1\n",
    "        else:\n",
    "            if is_prime(i+1) == True:  # using is_prime function and index should be i+1 \n",
    "                                       # (reason : python starts with 0)\n",
    "                row[i] = 1\n",
    "            else:\n",
    "                row[i] = 0\n",
    "        \n",
    "    #print(row)\n",
    "    \n",
    "    return row\n",
    "\n",
    "\n",
    "\n",
    "# test the function with N = 100 and T = 400\n",
    "row = np.array([make_new_R(100)])\n",
    "M_R = making_matrix(row,400)\n",
    "print(M_R)"
   ]
  },
  {
   "cell_type": "markdown",
   "metadata": {},
   "source": [
    "3) Plot the position of the cars from problem 2) in the following three time intervals: $t=[0, 20]$, $[300, 320]$ and $[380, 400]$. Discuss whether you think that the traffic reaches some steady state by the end of the simulation. What is the average velocity of all the cars at the end of the simulation? Note you can either point markers in `plot`, or use the plotting function `imshow` to create a checkerboard-like plot."
   ]
  },
  {
   "cell_type": "code",
   "execution_count": 14,
   "metadata": {},
   "outputs": [
    {
     "data": {
      "image/png": "[encoded data removed]",
      "text/plain": [
       "<Figure size 720x720 with 3 Axes>"
      ]
     },
     "metadata": {
      "needs_background": "light"
     },
     "output_type": "display_data"
    }
   ],
   "source": [
    "### 2a - 3\n",
    "\n",
    "# drawing plots given data\n",
    "import matplotlib.pylab as plt \n",
    "fig, (ax1, ax2, ax3) = plt.subplots(1, 3, figsize=(10,10))\n",
    "# subplot(nrows, ncols, index, **kwargs)\n",
    "\n",
    "# first I sliced the interval which I want to see. (e.g. ax1.imshow(M_R[:,:20]))\n",
    "# to change the x-axis values, I took set_xlim(starting point, ending point)\n",
    "ax1.imshow(M_R[:,:20])\n",
    "ax1.set_xlim(0,20)\n",
    "\n",
    "ax2.imshow(M_R[:,:320])\n",
    "ax2.set_xlim(300,320)\n",
    "\n",
    "ax3.imshow(M_R[:,:400])\n",
    "ax3.set_xlim(380, 400)\n",
    "\n",
    "plt.show()\n",
    "\n",
    "\n",
    "#set_xlim : https://stackoverflow.com/questions/15858192/how-to-set-xlim-and-ylim-for-a-subplot-in-matplotlib"
   ]
  },
  {
   "cell_type": "markdown",
   "metadata": {},
   "source": [
    "---"
   ]
  },
  {
   "cell_type": "markdown",
   "metadata": {},
   "source": [
    "### Task 2b - Trajectory of the cars and average velocity"
   ]
  },
  {
   "cell_type": "markdown",
   "metadata": {},
   "source": [
    "Storing `R[i,t]` at each time step is unnecessarily memory-consuming. Moreover, it is hard to track individual cars through the zeros and ones of `R[i,t]`. Instead, it is more efficient for many purposes to store the trajectories of each car in an array, `Traj[car,t]`, where each row records the trajectory for a different car, with the value in each successive column recording the location at each successive time step. Our next purpose is to use this array to calculate the average velocities of each car. So it is now better not to use the periodic boundary condition immediately, but to store the value of $N+1$ for the car that moves off the last cell (similarly storing the value of $N+2$ instead of 2 etc). For instance, for the 9-cell road shown in the previous figure `Traj` is constructed as below:\n",
    "\n",
    "$$\n",
    "\\left(\\begin{array}{ccc}\n",
    "1 & 2 & 3 & 3\\\\\n",
    "4 & 4 & 4 & 5\\\\\n",
    "5 & 5 & 6 & 7\\\\\n",
    "6 & 7 & 8 & 9\\\\\n",
    "9 & 9 & 10& 11\\\\\n",
    "\\end{array}\\right)\n",
    "$$\n",
    "\n",
    "To derive `Traj[:,t+1]` from `Traj[:,t]`, we only need the current column of `R` and not the entire matrix `R[0:N,0:t+1]`. Hence, we are going to only keep the vector `r[0:N]`, which is the current state of the road with empty cells represented by 0 and cells with a car by 1 (i.e. `r=R[:,t]`). Now write a new funtion **`new_position(r,Traj)`** that takes the vector `r` and the current position vector `Traj[:,t]`, and returns the next column `Traj[:,t+1]`. \n",
    "\n",
    "Using `Traj[:,t+1]` and [modular arithmetic](https://en.wikipedia.org/wiki/Modular_arithmetic) you can update `r` more easily. To update `r` from the state at `t` to `t+1` you will need to: \n",
    "\n",
    "- start a new array for `r` at `t+1` by filling `r[:]` values as zeros initially\n",
    "- take each element of `Traj[:,t+1]`\n",
    "- find the remainder when you divide that element by $N$, call it `j`\n",
    "- set `r[j-1]=1`.\n",
    "\n",
    "(Note what is happening here - you are storing the cars in cells 1 up to N in array positions indexed 0 up to N-1).\n",
    "\n",
    "Write another function **`new_updateR(Traj[:,t+1])`** that takes the trajectory at `t+1` and returns a new vector `r` without using any `if` statements using this procedure outlined above. (Note here the size of `r` is $N$ and the size of `Traj` is $M \\times T$).\n",
    "\n",
    "The speed of car `i` at time `t` can be readily calculated as **`Traj[i,t]-Traj[i,t-1]`**, which is either 0 or 1 cell per step. Write the function **`ave_vel(Traj,t)`** that takes the array of trajectories and the time step and returns the average velocity of all cars at time `t`.   \n",
    "\n",
    "Using the functions you have written; **`new_position()`**, **`new_updateR()`** and **`ave_vel()`**, complete the following list of tasks:\n",
    "\n",
    "\n",
    "1) Test your function **`new_position()`** by using the example above.\n",
    "\n",
    "2) Put $M = 15$ cars in the first fifteen cells of a road that has $N = 50$ cells. Plot the average speed of all cars as a function of time up to $T=50$. How long does it take to reach a steady average speed?\n",
    "\n",
    "3) Repeat question 2) for $M = 25$ and $M = 35$ and discuss the results. Is the final average speed the same for all $M$? Which is the largest value of $M$ for which you can reach the maximum average speed?"
   ]
  },
  {
   "cell_type": "code",
   "execution_count": 15,
   "metadata": {},
   "outputs": [
    {
     "name": "stdout",
     "output_type": "stream",
     "text": [
      "[[2. 4. 5. 7. 9.]]\n"
     ]
    }
   ],
   "source": [
    "### 2b - 1\n",
    "### Making new_position() function\n",
    "\n",
    "import numpy as np\n",
    "\n",
    "def new_position(r, Traj):\n",
    "    '''\n",
    "    Take a matrix with one row(r) and another matrix with one row(Traj)\n",
    "    Return the new trajectory position Matrix with one row\n",
    "    '''\n",
    "    n_row = r.shape[1]              # the number of columns of r\n",
    "    n_Traj = Traj.shape[1]          # the number of columns of Traj\n",
    "    new_traj = np.zeros(n_Traj)     # making zero vector with same size as Traj\n",
    "    \n",
    "    for i in range(n_Traj):             # test i integer from 0 to n_Traj\n",
    "        j = int(Traj[0,i] % n_row - 1)  # assign new value 'j' to find the index of the position\n",
    "        \n",
    "        if j == - 1:                    \n",
    "            if r[0,0] == 1:\n",
    "                new_traj[i] = Traj[0,i]\n",
    "            else:\n",
    "                new_traj[i] = Traj[0,i] + 1\n",
    "                \n",
    "        # When we test the last value of column(j = -1)\n",
    "        # there are two conditions related to the first value of column\n",
    "        # (1) When the first value of column is 1, we could not move. \n",
    "        # So, we have to take the same value of previous one\n",
    "        # (2) When the first value of column is 0, we could move forward.\n",
    "        # So, we have to add 1.\n",
    "        \n",
    "        \n",
    "        else:\n",
    "            if r[0,j+1] == 0:\n",
    "                new_traj[i] = Traj[0,i] + 1\n",
    "            else:\n",
    "                new_traj[i] = Traj[0,i]\n",
    "                \n",
    "        # When next value is 0, we could move forward. => adding 1\n",
    "        # If not, just taking previous value\n",
    "      \n",
    "    \n",
    "    new = np.stack((Traj[0], new_traj))\n",
    "                \n",
    "    return np.array([new[-1,:]])\n",
    "\n",
    "r = np.array([[1,0,0,1,1,1,0,0,1]])\n",
    "Traj = np.array([[1,4,5,6,9]])\n",
    "print(new_position(r,Traj))"
   ]
  },
  {
   "cell_type": "code",
   "execution_count": 16,
   "metadata": {},
   "outputs": [
    {
     "name": "stdout",
     "output_type": "stream",
     "text": [
      "[[0. 1. 0. 1. 1. 0. 1. 0. 1.]]\n"
     ]
    }
   ],
   "source": [
    "### making new_updateR function\n",
    "\n",
    "Traj_t = new_position(r, Traj)\n",
    "\n",
    "def new_updateR(Traj_t):\n",
    "    '''\n",
    "    Using new_position function, return the column related to the return value of function 'new_position()'. \n",
    "    '''\n",
    "    \n",
    "    new_r = np.zeros(r.shape[1])\n",
    "    final_r = np.array([new_r])\n",
    "    \n",
    "    for i in range(Traj_t.shape[1]):\n",
    "        value = Traj_t[0,i]            # taking each value of Traj_t and assign to 'value'\n",
    "        j = int(value % r.shape[1])    # to find the index of new r, I used modulus.\n",
    "        final_r[0,j-1] = 1             \n",
    "        # changing jth index of final_r as 0 to 1. In python it starts with 0, put index j-1 instead of j\n",
    "    \n",
    "    return final_r\n",
    "\n",
    "print(new_updateR(Traj_t))"
   ]
  },
  {
   "cell_type": "code",
   "execution_count": 17,
   "metadata": {},
   "outputs": [
    {
     "name": "stdout",
     "output_type": "stream",
     "text": [
      "[[ 1.  2.  3.  3.  4.  5.  6.]\n",
      " [ 4.  4.  4.  5.  6.  7.  8.]\n",
      " [ 5.  5.  6.  7.  8.  9.  9.]\n",
      " [ 6.  7.  8.  9. 10. 10. 11.]\n",
      " [ 9.  9. 10. 11. 11. 12. 13.]]\n"
     ]
    }
   ],
   "source": [
    "### making whole matrix of Trajectory\n",
    "\n",
    "import numpy as np\n",
    "\n",
    "def Matrix_Traj(r, Traj, t):\n",
    "    '''\n",
    "    return matrix until time t with r and Traj \n",
    "    which are obtained by new_updateR and new_position, respectively\n",
    "    '''\n",
    "    copy_r = r          # not to lose the original r, I assign it as 'copy_R'\n",
    "    copy_Traj = Traj\n",
    "    \n",
    "    for i in range(t-1):\n",
    "        Traj = new_position(r, Traj)  \n",
    "        r = new_updateR(Traj)\n",
    "        \n",
    "        copy_Traj = np.row_stack((copy_Traj, Traj))\n",
    "        # to make a matrix, stack it as row.\n",
    "        # and return the matrix with transpose matrix\n",
    "    \n",
    "    \n",
    "    return np.transpose(copy_Traj)\n",
    "\n",
    "\n",
    "r = np.array([[1,0,0,1,1,1,0,0,1]])\n",
    "Traj = np.array([[1,4,5,6,9]])\n",
    "\n",
    "\n",
    "# test the function Matrix_traj until time t = 7\n",
    "M_Traj = Matrix_Traj(r, Traj, 7)\n",
    "print(M_Traj)"
   ]
  },
  {
   "cell_type": "code",
   "execution_count": 18,
   "metadata": {},
   "outputs": [
    {
     "name": "stdout",
     "output_type": "stream",
     "text": [
      "[0.4, 0.8, 0.8, 0.8, 0.8, 0.8]\n"
     ]
    }
   ],
   "source": [
    "### making ave_vel function\n",
    "\n",
    "def ave_vel(Traj, t):\n",
    "    '''\n",
    "    Return the average value of velocity with Traj and time t.\n",
    "    1. finding difference between time t+1 and t.\n",
    "    2. finding average by np.mean().\n",
    "    3. appending the #2 value to list which I made.\n",
    "    \n",
    "    The elements of return value cannot become bigger than 1.\n",
    "    (Reason :  when we do #1, the values we get is 0 or 1. And computing the average, \n",
    "    it should not be bigger than 1. The maximum value is 1.)\n",
    "    '''\n",
    "    \n",
    "    col_vel = []        # to append the value, I make a empty list.\n",
    "    \n",
    "    for i in range(t-1):\n",
    "        Traj_b = Traj[:,i]\n",
    "        Traj_t = Traj[:,i+1]\n",
    "        vel = np.array([Traj_t - Traj_b])\n",
    "        \n",
    "        col_vel.append(np.mean(vel))\n",
    "    \n",
    "    \n",
    "    return col_vel\n",
    "\n",
    "# test a function ave_vel() with using M_Traj and time = 7\n",
    "av_velo = ave_vel(M_Traj, 7)\n",
    "print(av_velo)"
   ]
  },
  {
   "cell_type": "markdown",
   "metadata": {},
   "source": [
    "2) Put $M = 15$ cars in the first fifteen cells of a road that has $N = 50$ cells. Plot the average speed of all cars as a function of time up to $T=50$. How long does it take to reach a steady average speed?"
   ]
  },
  {
   "cell_type": "code",
   "execution_count": 19,
   "metadata": {},
   "outputs": [
    {
     "name": "stdout",
     "output_type": "stream",
     "text": [
      "[[1. 1. 1. 1. 1. 1. 1. 1. 1. 1. 1. 1. 1. 1. 1. 0. 0. 0. 0. 0. 0. 0. 0. 0.\n",
      "  0. 0. 0. 0. 0. 0. 0. 0. 0. 0. 0. 0. 0. 0. 0. 0. 0. 0. 0. 0. 0. 0. 0. 0.\n",
      "  0. 0.]]\n"
     ]
    }
   ],
   "source": [
    "### 2b - 2\n",
    "\n",
    "N = 50\n",
    "M = 15\n",
    "T = 50\n",
    "\n",
    "def new_R(N,M):\n",
    "    '''\n",
    "    Input : two integer N and M\n",
    "    Return a Matrix with one row and N columns which is that the first fifteen cells(M) are 1.\n",
    "    '''\n",
    "    row = np.zeros(N)\n",
    "    \n",
    "    # to make the first fifteen cells(M) as 1, repeat as much as M and assign 1.\n",
    "    for i in range(M):\n",
    "        row[i] = 1\n",
    "    \n",
    "    return np.array([row])\n",
    "\n",
    "r = new_R(N,M)\n",
    "print(r)"
   ]
  },
  {
   "cell_type": "code",
   "execution_count": 20,
   "metadata": {},
   "outputs": [
    {
     "name": "stdout",
     "output_type": "stream",
     "text": [
      "[[ 1.  2.  3.  4.  5.  6.  7.  8.  9. 10. 11. 12. 13. 14. 15.]]\n"
     ]
    }
   ],
   "source": [
    "def making_f_Traj(M):\n",
    "    '''\n",
    "    Retrun the first Trajectory with size M\n",
    "    '''\n",
    "    row = np.zeros(M)\n",
    "    for i in range(M):\n",
    "        row[i] = i+1    # Due to python indexing, it should add 1.\n",
    "    \n",
    "    return np.array([row])\n",
    "        \n",
    "F_Traj = making_f_Traj(M)\n",
    "print(F_Traj)"
   ]
  },
  {
   "cell_type": "code",
   "execution_count": 21,
   "metadata": {},
   "outputs": [
    {
     "name": "stdout",
     "output_type": "stream",
     "text": [
      "[0.06666666666666667, 0.13333333333333333, 0.2, 0.26666666666666666, 0.3333333333333333, 0.4, 0.4666666666666667, 0.5333333333333333, 0.6, 0.6666666666666666, 0.7333333333333333, 0.8, 0.8666666666666667, 0.9333333333333333, 1.0, 1.0, 1.0, 1.0, 1.0, 1.0, 1.0, 1.0, 1.0, 1.0, 1.0, 1.0, 1.0, 1.0, 1.0, 1.0, 1.0, 1.0, 1.0, 1.0, 1.0, 1.0, 1.0, 1.0, 1.0, 1.0, 1.0, 1.0, 1.0, 1.0, 1.0, 1.0, 1.0, 1.0, 1.0]\n"
     ]
    }
   ],
   "source": [
    "def modified_M_Traj(r, F_Traj, T):\n",
    "    '''\n",
    "    Return new whole matrix with r and F_Traj.\n",
    "    r-value is obtained from new_R(N,M) and F_Traj-value is obtained by making_f_Traj(M)\n",
    "    T is how much time we want to observe.\n",
    "    '''\n",
    "    \n",
    "    r2 = r\n",
    "    F_Traj2 = F_Traj\n",
    "    \n",
    "    F_Traj = new_position(r, F_Traj)\n",
    "    r = new_updateR(F_Traj)\n",
    "    s = np.row_stack((F_Traj2, F_Traj))\n",
    "    \n",
    "    \n",
    "    for i in range(T-2):        \n",
    "        # above 'for loop', we get a matrix with two rows. => repeat as much as T-2\n",
    "        \n",
    "        F_Traj = new_position(r, F_Traj)\n",
    "        r = new_updateR(F_Traj)\n",
    "        s = np.row_stack((s, F_Traj))\n",
    "        \n",
    "    return np.transpose(s)\n",
    "\n",
    "    # I think it as a row vector, but in question we consider it as column vector.\n",
    "    # That is the reason I take np.transpose()\n",
    "\n",
    "\n",
    "a = modified_M_Traj(r, F_Traj, T)\n",
    "#print(a)\n",
    "\n",
    "# test the function ave_vel()\n",
    "aver_velo = ave_vel(a, N)\n",
    "print(aver_velo)"
   ]
  },
  {
   "cell_type": "markdown",
   "metadata": {},
   "source": [
    "###### comments\n",
    "When the element of ave_vel is 1, it means that every car is moving.\n",
    "When the element of ave_vel is 0, it meant that no car is moving."
   ]
  },
  {
   "cell_type": "code",
   "execution_count": 22,
   "metadata": {},
   "outputs": [],
   "source": [
    "### Making function for drawing plots\n",
    "\n",
    "\n",
    "# To draw a plot easily, I make a function  as input N,M and T to compute ave_vel value \n",
    "# using new_R, making_f_Traj and modified_M_Traj functions.\n",
    "def MNT_func(N,M,T):\n",
    "    '''\n",
    "    Return the value of ave_vel() function with inputs N, M and T.\n",
    "    '''\n",
    "    r = new_R(N,M)\n",
    "    F_Traj = making_f_Traj(M)\n",
    "    m = modified_M_Traj(r, F_Traj, T) \n",
    "    average_v = ave_vel(m, T)\n",
    "    \n",
    "    return average_v"
   ]
  },
  {
   "cell_type": "code",
   "execution_count": 23,
   "metadata": {},
   "outputs": [
    {
     "data": {
      "image/png": "[encoded data removed]",
      "text/plain": [
       "<Figure size 432x288 with 1 Axes>"
      ]
     },
     "metadata": {
      "needs_background": "light"
     },
     "output_type": "display_data"
    }
   ],
   "source": [
    "import matplotlib.pylab as plt \n",
    "\n",
    "M = 15\n",
    "N = 50\n",
    "T = 50\n",
    "\n",
    "v = MNT_func(N,M,T)     # we can compute easily with above function which I defined.\n",
    "\n",
    "plt.plot(range(T-1),v)  # python indexing (T-1)\n",
    "plt.show()"
   ]
  },
  {
   "cell_type": "markdown",
   "metadata": {},
   "source": [
    "#### Q. How long does it take to reach a steady average speed?\n",
    "\n",
    "To reach steady average speed, it takes around t = 13. We can easily find the point with above graph which I draw. Before around t = 13 or 14, the average speed is increasing. It means that much more cars could move forward. When t = 13 or 14, i.e. around t = 13, the average velocity reaches 1. It means every car moves forward after around t = 13."
   ]
  },
  {
   "cell_type": "markdown",
   "metadata": {},
   "source": [
    "3) Repeat question 2) for $M = 25$ and $M = 35$ and discuss the results. Is the final average speed the same for all $M$? Which is the largest value of $M$ for which you can reach the maximum average speed?"
   ]
  },
  {
   "cell_type": "code",
   "execution_count": 24,
   "metadata": {},
   "outputs": [
    {
     "data": {
      "image/png": "[encoded data removed]",
      "text/plain": [
       "<Figure size 432x288 with 1 Axes>"
      ]
     },
     "metadata": {
      "needs_background": "light"
     },
     "output_type": "display_data"
    }
   ],
   "source": [
    "### 2b - 3 (When M = 25)\n",
    "\n",
    "M = 25\n",
    "N = 50\n",
    "T = 50\n",
    "\n",
    "v = MNT_func(N,M,T)\n",
    "\n",
    "plt.plot(range(T-1), v)\n",
    "plt.show()"
   ]
  },
  {
   "cell_type": "code",
   "execution_count": 25,
   "metadata": {},
   "outputs": [
    {
     "data": {
      "image/png": "[encoded data removed]",
      "text/plain": [
       "<Figure size 432x288 with 1 Axes>"
      ]
     },
     "metadata": {
      "needs_background": "light"
     },
     "output_type": "display_data"
    }
   ],
   "source": [
    "### 2b - 3 (When M = 35)\n",
    "\n",
    "M = 35\n",
    "N = 50\n",
    "T = 50\n",
    "\n",
    "v = MNT_func(N,M,T)\n",
    "\n",
    "plt.plot(range(T-1), v)\n",
    "plt.show()"
   ]
  },
  {
   "cell_type": "markdown",
   "metadata": {},
   "source": [
    "#### Q. Is the final average speed the same for all $M$?\n",
    "\n",
    "Actually, it is not. When M = 15 and 25, they reach the final average speed as 1. On the other hand, when M = 35, it reaches around 0.5 for the final average speed. "
   ]
  },
  {
   "cell_type": "markdown",
   "metadata": {},
   "source": [
    "#### Q. Which is the largest value of $M$ for which you can reach the maximum average speed?\n",
    "\n",
    "M = 25 to get maximum average velocity. When we have M greater than 25, it could not reach 1 as the maximum average speed. It means that we have 50 size of road(N). To get the traffic smoothly (to reach the final average speed 1), the number of maximum cars should be half of the road size like binary. Therefore, M = 25 i the largest value to reach the maximum average speed."
   ]
  },
  {
   "cell_type": "markdown",
   "metadata": {},
   "source": [
    "4) Does the average speed of the cars depend on their initial configuration? To answer this question, initally fill $M = 20$ cars in $N=50$ cells in three different ways:\n",
    "\n",
    "a) Fill the first 20 cells with 20 cars.\n",
    "\n",
    "b) Use `random.sample(range(0,N),M)` to randomly distribute the cars (you will need to import `random` to use this function).\n",
    "\n",
    "c) Put them in pairs with one cell space between the pairs. That is, fill the cells 1,2,4,5,7,8,10,11,... \n",
    "\n",
    "Plot the average speed of the cars as a function of time up to $T=50$ for each case and discuss the results.\n",
    "\n",
    "5) Repeat the previous question for $M = 30$ cars. Does the average speed reach the same limit?"
   ]
  },
  {
   "cell_type": "code",
   "execution_count": 26,
   "metadata": {},
   "outputs": [
    {
     "data": {
      "image/png": "[encoded data removed]",
      "text/plain": [
       "<Figure size 432x288 with 1 Axes>"
      ]
     },
     "metadata": {
      "needs_background": "light"
     },
     "output_type": "display_data"
    }
   ],
   "source": [
    "### 2b - 4 - a\n",
    "\n",
    "N = 50\n",
    "M = 20\n",
    "T = 50\n",
    "\n",
    "v = MNT_func(N,M,T)\n",
    "\n",
    "plt.plot(range(T-1),v)\n",
    "plt.show()"
   ]
  },
  {
   "cell_type": "code",
   "execution_count": 27,
   "metadata": {},
   "outputs": [
    {
     "name": "stdout",
     "output_type": "stream",
     "text": [
      "[[1. 0. 1. 1. 0. 1. 1. 0. 0. 0. 0. 0. 0. 0. 0. 1. 0. 0. 0. 0. 1. 0. 1. 1.\n",
      "  0. 0. 0. 0. 0. 0. 1. 0. 0. 0. 1. 1. 0. 1. 1. 0. 1. 1. 0. 0. 0. 1. 0. 1.\n",
      "  1. 1.]]\n"
     ]
    }
   ],
   "source": [
    "### 2b - 4 - b\n",
    "\n",
    "import random\n",
    "import matplotlib.pylab as plt \n",
    "\n",
    "N = 50\n",
    "M = 20\n",
    "T = 50\n",
    "\n",
    "# making a function to find random matrix r with size N and M number of cars.\n",
    "def rand_car(N,M):\n",
    "    '''\n",
    "    Return matrix r with one row.\n",
    "    Take integers N(number of cells) and M(number of cars on the road).\n",
    "    '''\n",
    "    \n",
    "    r = np.zeros(N)      # make a vector with 0 elements and we will replace it to 1 some specific value.\n",
    "    rand_index = random.sample(range(0,N),M) \n",
    "    # make random index with size M and get value of each element is between 0 to N-1\n",
    "    \n",
    "    for i in range(M):\n",
    "        j = rand_index[i]  # to make a r matrix, we have to find the index for car position.\n",
    "        r[j] = 1           # replace j-th value of r to 1\n",
    "\n",
    "\n",
    "    return np.array([r])\n",
    "\n",
    "a = rand_car(N,M)\n",
    "print(a)"
   ]
  },
  {
   "cell_type": "code",
   "execution_count": 28,
   "metadata": {},
   "outputs": [
    {
     "name": "stdout",
     "output_type": "stream",
     "text": [
      "[[ 1  3  4  6  7 16 21 23 24 31 35 36 38 39 41 42 46 48 49 50]]\n"
     ]
    }
   ],
   "source": [
    "# making a function to find the random matrix of traj related to matrix of random car r.\n",
    "def rand_car_traj(r, M):\n",
    "    '''\n",
    "    Return trajectory matrix with one row based on matrix of random car r\n",
    "    '''\n",
    "    \n",
    "    n_r = r.shape[1]\n",
    "    rand_traj = []     # make an empty list to get the value of trajectories.\n",
    "    \n",
    "    for i in range(n_r):\n",
    "        if r[0,i] == 1:\n",
    "            rand_traj.append(i+1)  # due to python indexing, we have to add 1\n",
    "        \n",
    "    return np.array([rand_traj])\n",
    "\n",
    "b = rand_car_traj(a, M)\n",
    "print(b)"
   ]
  },
  {
   "cell_type": "code",
   "execution_count": 29,
   "metadata": {},
   "outputs": [
    {
     "name": "stdout",
     "output_type": "stream",
     "text": [
      "rand_r :\n",
      " [[0. 0. 0. 1. 0. 0. 0. 0. 1. 1. 1. 1. 1. 0. 1. 1. 0. 1. 0. 1. 1. 0. 0. 0.\n",
      "  0. 1. 0. 0. 1. 0. 0. 0. 0. 0. 0. 1. 1. 0. 1. 0. 0. 1. 1. 0. 1. 0. 0. 0.\n",
      "  0. 1.]]\n",
      "rand_traj :\n",
      " [[ 4  9 10 11 12 13 15 16 18 20 21 26 29 36 37 39 42 43 45 50]]\n"
     ]
    }
   ],
   "source": [
    "# make a function to compute easily\n",
    "def rand_car_total(N,M):\n",
    "    '''\n",
    "    Input as integers N and M\n",
    "    Return the values of given functions rand_car() and rand_car_traj()\n",
    "    '''\n",
    "    \n",
    "    rand_r = rand_car(N,M)\n",
    "    rand_traj = rand_car_traj(rand_r,M)\n",
    "    \n",
    "    return rand_r, rand_traj\n",
    "\n",
    "\n",
    "rand_r, rand_traj = rand_car_total(N,M)\n",
    "print(\"rand_r :\\n {}\".format(rand_r))\n",
    "print(\"rand_traj :\\n {}\".format(rand_traj))"
   ]
  },
  {
   "cell_type": "code",
   "execution_count": 30,
   "metadata": {},
   "outputs": [
    {
     "data": {
      "image/png": "[encoded data removed]",
      "text/plain": [
       "<Figure size 432x288 with 1 Axes>"
      ]
     },
     "metadata": {
      "needs_background": "light"
     },
     "output_type": "display_data"
    }
   ],
   "source": [
    "### making a plot\n",
    "\n",
    "rand_r, rand_traj = rand_car_total(N,M)\n",
    "a = modified_M_Traj(rand_r, rand_traj, T)\n",
    "v = ave_vel(a, T)\n",
    "\n",
    "plt.plot(range(T-1),v)\n",
    "plt.show()"
   ]
  },
  {
   "cell_type": "code",
   "execution_count": 31,
   "metadata": {},
   "outputs": [
    {
     "name": "stdout",
     "output_type": "stream",
     "text": [
      "[[ 1  2  4  5  7  8 10 11 13 14 16 17 19 20 22 23 25 26 28 29]]\n"
     ]
    }
   ],
   "source": [
    "### 2b - 4 - c\n",
    "N = 50\n",
    "M = 20\n",
    "T = 50\n",
    "\n",
    "# make a trajectory with pair position.\n",
    "def traj_pairs(N, M):\n",
    "    '''\n",
    "    Return a matrix of trajectory with number of pairs (e.g.[1,2,4,5,7,8,,,,]) as M size.\n",
    "    '''\n",
    "    \n",
    "    pair_list = []  # to append new values, make an empty list.\n",
    "    \n",
    "    for i in range(1,N,3):        \n",
    "        # test an integer i from 1 to N with 3 steps\n",
    "        # 1,4,7,,,,, and we will append i and i+1 value.\n",
    "        \n",
    "        if len(pair_list) < 20:   # we have to get the value which is length of M\n",
    "            pair_list.append(i)\n",
    "            pair_list.append(i+1)\n",
    "\n",
    "        \n",
    "    return np.array([pair_list])\n",
    "\n",
    "\n",
    "pairs = traj_pairs(N, M)\n",
    "#print(pairs.shape[1])\n",
    "print(pairs)"
   ]
  },
  {
   "cell_type": "code",
   "execution_count": 32,
   "metadata": {},
   "outputs": [
    {
     "name": "stdout",
     "output_type": "stream",
     "text": [
      "[[1. 1. 0. 1. 1. 0. 1. 1. 0. 1. 1. 0. 1. 1. 0. 1. 1. 0. 1. 1. 0. 1. 1. 0.\n",
      "  1. 1. 0. 1. 1. 0. 0. 0. 0. 0. 0. 0. 0. 0. 0. 0. 0. 0. 0. 0. 0. 0. 0. 0.\n",
      "  0. 0.]]\n"
     ]
    }
   ],
   "source": [
    "# make a function for changing trajectory matrix to r matrix.\n",
    "def traj_2_r(N, pairs):\n",
    "    '''\n",
    "    Return the value of Matrix r with one row using N and pairs which is obtained by traj_pairs() function.\n",
    "    '''\n",
    "    \n",
    "    r_array = np.zeros(N)   # making an array with zeros which has length N.\n",
    "    m = pairs.shape[1]\n",
    "\n",
    "    for i in range(m):\n",
    "        j = pairs[0,i]      # get a value j which is the element of pairs.\n",
    "        r_array[j-1] = 1    # replace 0 to 1 in j-1 th index of r_array\n",
    "        \n",
    "    return np.array([r_array]) \n",
    "\n",
    "    \n",
    "car_pairs = traj_2_r(N, pairs)   \n",
    "print(car_pairs)\n",
    "\n",
    "#matrix = Matrix_Traj(car_pairs, pairs, T)"
   ]
  },
  {
   "cell_type": "code",
   "execution_count": 33,
   "metadata": {},
   "outputs": [],
   "source": [
    "# make a function to draw a plot easily with data which is related to 'pairs'\n",
    "def to_pairs(N,M,T):\n",
    "    '''\n",
    "    Take the values of N, M, and T and return the average velocity of pairs.\n",
    "    '''\n",
    "    \n",
    "    pairs = traj_pairs(N, M)\n",
    "    car_pairs = traj_2_r(N, pairs)\n",
    "    a = modified_M_Traj(car_pairs, pairs, T)\n",
    "    v = ave_vel(a,T)\n",
    "    \n",
    "    return v"
   ]
  },
  {
   "cell_type": "code",
   "execution_count": 34,
   "metadata": {},
   "outputs": [
    {
     "data": {
      "image/png": "[encoded data removed]",
      "text/plain": [
       "<Figure size 432x288 with 1 Axes>"
      ]
     },
     "metadata": {
      "needs_background": "light"
     },
     "output_type": "display_data"
    }
   ],
   "source": [
    "v = to_pairs(N,M,T)    # we can get average velocity easily when we use to_pairs() function.\n",
    "\n",
    "plt.plot(range(T-1),v)\n",
    "plt.show()"
   ]
  },
  {
   "cell_type": "markdown",
   "metadata": {},
   "source": [
    "- (a), (b) and (c) reach the final average speed as 1.\n",
    "- There are difference between how much time to reach the final average speed.\n",
    "\n",
    "(a) It takes T = 20 to reach it and before reaching it, it increases linearly.\n",
    "\n",
    "(b) It is a random sample, so I could not say the specific things. However, it does not take more than T = 20 to reach the final average speed. And sometimes it increases as shape of stairs.\n",
    "\n",
    "(c) It is pairs data. Due to pairs data, the graph looks like steps. There are 10 steps to reach the final average speed. And it takes around T = 20 to reach the final average speed."
   ]
  },
  {
   "cell_type": "markdown",
   "metadata": {},
   "source": [
    "5) Repeat the previous question for $M = 30$ cars. Does the average speed reach the same limit?"
   ]
  },
  {
   "cell_type": "code",
   "execution_count": 35,
   "metadata": {},
   "outputs": [
    {
     "data": {
      "image/png": "[encoded data removed]",
      "text/plain": [
       "<Figure size 432x288 with 1 Axes>"
      ]
     },
     "metadata": {
      "needs_background": "light"
     },
     "output_type": "display_data"
    }
   ],
   "source": [
    "### 2b - 5 - a\n",
    "\n",
    "N = 50\n",
    "M = 30\n",
    "T = 50\n",
    "\n",
    "v = MNT_func(N,M,T)\n",
    "\n",
    "plt.plot(range(T-1),v)\n",
    "plt.show()"
   ]
  },
  {
   "cell_type": "code",
   "execution_count": 36,
   "metadata": {},
   "outputs": [
    {
     "data": {
      "image/png": "[encoded data removed]",
      "text/plain": [
       "<Figure size 432x288 with 1 Axes>"
      ]
     },
     "metadata": {
      "needs_background": "light"
     },
     "output_type": "display_data"
    }
   ],
   "source": [
    "### 2b - 5 - b\n",
    "\n",
    "rand_r, rand_traj = rand_car_total(N,M)\n",
    "a = modified_M_Traj(rand_r, rand_traj, T)\n",
    "v = ave_vel(a, T)\n",
    "\n",
    "plt.plot(range(T-1),v)\n",
    "plt.show()"
   ]
  },
  {
   "cell_type": "code",
   "execution_count": 37,
   "metadata": {},
   "outputs": [
    {
     "data": {
      "image/png": "[encoded data removed]",
      "text/plain": [
       "<Figure size 432x288 with 1 Axes>"
      ]
     },
     "metadata": {
      "needs_background": "light"
     },
     "output_type": "display_data"
    }
   ],
   "source": [
    "### 2b - 5 - c (pairs)\n",
    "\n",
    "v = to_pairs(N,M,T)\n",
    "\n",
    "plt.plot(range(T-1),v)\n",
    "plt.show()"
   ]
  },
  {
   "cell_type": "markdown",
   "metadata": {},
   "source": [
    "#### Q. Does the average speed reach the same limit?\n",
    "\n",
    "Actually, not.\n",
    "\n",
    "- (a) Fill the first 20 cells with 20 cars.\n",
    "\n",
    "When M = 20, the limit of average speed reaches 1. However when M = 30, the limit of average speed reaches around 0.7. To reach the final average speed as 1, M-value should be one half of size N.\n",
    "\n",
    "\n",
    "- (b) Use `random.sample(range(0,N),M)` to randomly distribute the cars (you will need to import `random` to use this function).\n",
    "\n",
    "Similary, when M = 20 the limit of  reaches 1. On the other hand, when M = 30, it reaches around 0.67.\n",
    "\n",
    "\n",
    "- (c) Put them in pairs with one cell space between the pairs. That is, fill the cells 1,2,4,5,7,8,10,11,...\n",
    "\n",
    "Both when M = 20 and M = 30, the limit of average speed reach 1."
   ]
  },
  {
   "cell_type": "markdown",
   "metadata": {},
   "source": [
    "6) How does the number of cars affect the final average speed? In other words, we want to see how traffic fluidity depends on how busy the road is. Use `scipy.stats.bernoulli.rvs(p, size=N) ` to fill each cell in the inital configuration (see workshop 5 if you are not familiar with this function). This means the chance of having a car in a cell is `p`.  Therefore, if `N` is large enough, you expect to have `N*p` cars on the road. Set $N=800$, vary `p` from $0.2$ to $0.8$, and plot the average speed of cars at `T=200` as a function of `p`. Comment on the results. How does the number of cars affect their final average speed?\n",
    "\n",
    "7) Repeat the last question for $N=50$ and $N = 2000$. Do the results change? Why?"
   ]
  },
  {
   "cell_type": "code",
   "execution_count": 38,
   "metadata": {},
   "outputs": [],
   "source": [
    "import random \n",
    "import scipy\n",
    "from scipy import stats\n",
    "\n",
    "N = 800\n",
    "T = 200\n",
    "\n",
    "\n",
    "# to get a random p value\n",
    "def define_p(a,b):\n",
    "    '''\n",
    "    Input : two values a and b as [a, b] which p could get.\n",
    "    Return : p value between a and b\n",
    "    '''\n",
    "    \n",
    "    rand_num = random.randrange(a*10,b*10)\n",
    "    p = rand_num / 10\n",
    "    # to use random.randrange(x,y), we have to input x and y as an integer not floating point.\n",
    "    # Therefore, I multiply 10 and when I get randon number between [a*10, b*10], I will divide it by 10 again.\n",
    "    \n",
    "    \n",
    "    return p\n",
    "\n",
    "p = define_p(0.2,0.8)\n",
    "#print(\"p : {}\".format(p))    # to show the p value.\n",
    "\n",
    "ber = scipy.stats.bernoulli.rvs(p, size = N)\n",
    "ber_matrix = np.array([ber])\n",
    "#print(ber_matrix)"
   ]
  },
  {
   "cell_type": "code",
   "execution_count": 39,
   "metadata": {},
   "outputs": [],
   "source": [
    "# a function which is changing r to trajectory\n",
    "def r_2_traj(r, N):\n",
    "    '''\n",
    "    using matrix r and number N, return a trajectory matrix.\n",
    "    '''\n",
    "    \n",
    "    traj_list = []                  # to append new values, make an empty list.\n",
    "    \n",
    "    for i in range(N):\n",
    "        if r[0,i] == 1:\n",
    "            traj_list.append(i+1)\n",
    "        # to find index value when the element of r is 1.\n",
    "        # due to python indexing, we have to append i+1 when i-th value of r is 1.\n",
    "    \n",
    "    return np.array([traj_list])\n",
    "\n",
    "\n",
    "traj_p = r_2_traj(ber_matrix, N)\n",
    "#print(traj_p)\n",
    "\n",
    "whole_matrix = modified_M_Traj(ber_matrix, traj_p, T)\n",
    "#print(whole_matrix)"
   ]
  },
  {
   "cell_type": "code",
   "execution_count": 55,
   "metadata": {},
   "outputs": [],
   "source": [
    "# to draw plot easily using above functions which we defined.\n",
    "def to_plot_p(N,T,a,b):\n",
    "    '''\n",
    "    Return the average velocity with N, T, and [a,b] \n",
    "    using functions define_p(), r_2_traj() which we obtained.\n",
    "    '''\n",
    "    p = define_p(a,b)\n",
    "    ber = scipy.stats.bernoulli.rvs(p, size = N)\n",
    "    ber_matrix = np.array([ber])\n",
    "    traj_p = r_2_traj(ber_matrix, N)\n",
    "    whole_matrix = modified_M_Traj(ber_matrix, traj_p, T)\n",
    "    v = ave_vel(whole_matrix,T)\n",
    "    \n",
    "    return v\n",
    "\n",
    "# to check : (if `N` is large enough, you expect to have `N*p` cars on the road).\n",
    "number_Of_cars = np.sum(ber_matrix)"
   ]
  },
  {
   "cell_type": "code",
   "execution_count": 76,
   "metadata": {},
   "outputs": [
    {
     "name": "stdout",
     "output_type": "stream",
     "text": [
      "N : 800 \n",
      "T : 200\n",
      "p : 0.7\n",
      "the number of cars on the road : 33\n",
      "N * p : 560.0\n"
     ]
    },
    {
     "data": {
      "image/png": "[encoded data removed]",
      "text/plain": [
       "<Figure size 432x288 with 1 Axes>"
      ]
     },
     "metadata": {
      "needs_background": "light"
     },
     "output_type": "display_data"
    }
   ],
   "source": [
    "N = 800\n",
    "T = 200\n",
    "print(\"N : {} \\nT : {}\".format(N,T))\n",
    "print(\"p : {}\".format(p))\n",
    "print(\"the number of cars on the road : {}\".format(number_Of_cars))\n",
    "print(\"N * p : {}\".format(N*p))\n",
    "\n",
    "# # draw a plot with N = 800 and T = 200\n",
    "v = to_plot_p(N,T,0.2,0.8)\n",
    "\n",
    "plt.plot(range(T-1),v)\n",
    "plt.show()"
   ]
  },
  {
   "cell_type": "code",
   "execution_count": 78,
   "metadata": {},
   "outputs": [
    {
     "name": "stdout",
     "output_type": "stream",
     "text": [
      "N : 50 \n",
      "T : 200\n",
      "p : 0.4\n",
      "the number of cars on the road : 18\n",
      "N * p : 20.0\n"
     ]
    },
    {
     "data": {
      "image/png": "[encoded data removed]",
      "text/plain": [
       "<Figure size 432x288 with 1 Axes>"
      ]
     },
     "metadata": {
      "needs_background": "light"
     },
     "output_type": "display_data"
    }
   ],
   "source": [
    "N = 50\n",
    "T = 200\n",
    "\n",
    "print(\"N : {} \\nT : {}\".format(N,T))\n",
    "p = define_p(0.2,0.8)\n",
    "print(\"p : {}\".format(p))\n",
    "\n",
    "ber = scipy.stats.bernoulli.rvs(p, size = N)\n",
    "ber_matrix = np.array([ber])\n",
    "number_Of_cars = np.sum(ber_matrix)\n",
    "print(\"the number of cars on the road : {}\".format(number_Of_cars))\n",
    "print(\"N * p : {}\".format(N*p))\n",
    "\n",
    "\n",
    "# draw a plot with N = 50 and T = 200\n",
    "v = to_plot_p(N,T,0.2,0.8)\n",
    "\n",
    "plt.plot(range(T-1),v)\n",
    "plt.show()"
   ]
  },
  {
   "cell_type": "code",
   "execution_count": 83,
   "metadata": {},
   "outputs": [
    {
     "name": "stdout",
     "output_type": "stream",
     "text": [
      "N : 2000 \n",
      "T : 200\n",
      "p : 0.3\n",
      "the number of cars on the road : 561\n",
      "N * p : 600.0\n"
     ]
    },
    {
     "data": {
      "image/png": "[encoded data removed]",
      "text/plain": [
       "<Figure size 432x288 with 1 Axes>"
      ]
     },
     "metadata": {
      "needs_background": "light"
     },
     "output_type": "display_data"
    }
   ],
   "source": [
    "N = 2000\n",
    "T = 200\n",
    "print(\"N : {} \\nT : {}\".format(N,T))\n",
    "\n",
    "\n",
    "p = define_p(0.2,0.8)\n",
    "print(\"p : {}\".format(p))\n",
    "\n",
    "\n",
    "ber = scipy.stats.bernoulli.rvs(p, size = N)\n",
    "ber_matrix = np.array([ber])\n",
    "number_Of_cars = np.sum(ber_matrix)\n",
    "print(\"the number of cars on the road : {}\".format(number_Of_cars))\n",
    "print(\"N * p : {}\".format(N*p))\n",
    "\n",
    "\n",
    "# draw a plot with N = 2000 and T = 200\n",
    "v = to_plot_p(N,T,0.2,0.8)\n",
    "\n",
    "plt.plot(range(T-1),v)\n",
    "plt.show()"
   ]
  },
  {
   "cell_type": "markdown",
   "metadata": {},
   "source": [
    "#### Q. Do the results change? Why?\n",
    "\n",
    "We could get the number of cars on the road with similar value of N*p  when N is getting bigger.\n",
    "\n",
    "And results changed. When N is small (N = 50), the maximun average speed reaches around 0.67. On the other hand, rest of them tend to go zero.\n",
    "\n",
    "When p(the chance of having a car in a cell) is 0.2 which is relatively small, every car move to forword very well. However when p is getting bigger, there exists traffic jam on our road. The reason is that as p is getting bigger, it means that it has more chance to have cars on the road. So, if there are too many cars on the road, it should have traffic jam.\n",
    "\n"
   ]
  },
  {
   "cell_type": "markdown",
   "metadata": {},
   "source": [
    "---"
   ]
  },
  {
   "cell_type": "markdown",
   "metadata": {},
   "source": [
    "### Task 2c - Fast and slow cars"
   ]
  },
  {
   "cell_type": "markdown",
   "metadata": {},
   "source": [
    "Now imagine there are two types of cars on our road: fast cars who want to move with the speed of 2 cells per step if there are enough spaces in front of them, and the slow cars who always move with the speed of 1 cell per step as in the previous task. If there are less than two free cells in front of the fast cars, they either move one cell per step or don't move at all (like slow cars).\n",
    "\n",
    "1) Numbering your cells from $1$ to $N=100$, put all fast cars initially in the prime indexed cells and the cells in the interval $(60,85]$. Now plot the position of the cars in the time interval $t=[0, 60]$. Do you think a part of road will stay congested forever? In which direction is the congested part of the traffic flow moving?\n",
    "\n",
    "(You will find it helpful to construct a new function to help **`new_position2(r,Traj,Vel)`**, where the new vector `Vel` stores the velocity of each car)."
   ]
  },
  {
   "cell_type": "code",
   "execution_count": 84,
   "metadata": {},
   "outputs": [
    {
     "name": "stdout",
     "output_type": "stream",
     "text": [
      "[[0. 2. 2. 0. 2. 0. 2. 0. 0. 0. 2. 0. 2. 0. 0. 0. 2. 0. 2. 0. 0. 0. 2. 0.\n",
      "  0. 0. 0. 0. 2. 0. 2. 0. 0. 0. 0. 0. 2. 0. 0. 0. 2. 0. 2. 0. 0. 0. 2. 0.\n",
      "  0. 0. 0. 0. 2. 0. 0. 0. 0. 0. 2. 0. 2. 2. 2. 2. 2. 2. 2. 2. 2. 2. 2. 2.\n",
      "  2. 2. 2. 2. 2. 2. 2. 2. 2. 2. 2. 2. 2. 0. 0. 0. 2. 0. 0. 0. 0. 0. 0. 0.\n",
      "  2. 0. 0. 0.]]\n"
     ]
    }
   ],
   "source": [
    "N = 100\n",
    "T = 60\n",
    "\n",
    "import numpy as np\n",
    "\n",
    "# make a function to represent the speed of each cells\n",
    "# I modified make_new_R() function in 2a - 2\n",
    "# I just changed the value 1 to 2, cause we want to know about fast cars\n",
    "def vel(N):\n",
    "    row = np.zeros(N)\n",
    "    for i in range(N):\n",
    "        if 59 < i <= 84:\n",
    "            row[i] = 2\n",
    "        else:\n",
    "            if is_prime(i+1) == True:\n",
    "                row[i] = 2\n",
    "            else:\n",
    "                row[i] = 0\n",
    "    \n",
    "    return np.array([row])\n",
    "\n",
    "v = vel(N) \n",
    "print(v)"
   ]
  },
  {
   "cell_type": "code",
   "execution_count": 85,
   "metadata": {},
   "outputs": [
    {
     "name": "stdout",
     "output_type": "stream",
     "text": [
      "[[0. 1. 1. 0. 1. 0. 1. 0. 0. 0. 1. 0. 1. 0. 0. 0. 1. 0. 1. 0. 0. 0. 1. 0.\n",
      "  0. 0. 0. 0. 1. 0. 1. 0. 0. 0. 0. 0. 1. 0. 0. 0. 1. 0. 1. 0. 0. 0. 1. 0.\n",
      "  0. 0. 0. 0. 1. 0. 0. 0. 0. 0. 1. 0. 1. 1. 1. 1. 1. 1. 1. 1. 1. 1. 1. 1.\n",
      "  1. 1. 1. 1. 1. 1. 1. 1. 1. 1. 1. 1. 1. 0. 0. 0. 1. 0. 0. 0. 0. 0. 0. 0.\n",
      "  1. 0. 0. 0.]]\n"
     ]
    }
   ],
   "source": [
    "# make a matrix R related to vel(N) function\n",
    "# If there is an element except 0 in matrix v = vel(N),\n",
    "# then we assign 1 to corresponding index.\n",
    "def fast_R(N, vel):\n",
    "    row = np.zeros(N)\n",
    "    for i in range(N):\n",
    "        if vel[0,i] != 0:\n",
    "            \n",
    "        # In general, we cannot say vel[0,i] == 2 or sth value.\n",
    "        # The reason is that it could have different velocity in matrix vel.\n",
    "        # Therefore, we have to make a condition as 'not 0'\n",
    "            \n",
    "            row[i] = 1\n",
    "    \n",
    "    return np.array([row])\n",
    "\n",
    "r = fast_R(N, v)\n",
    "print(r)"
   ]
  },
  {
   "cell_type": "code",
   "execution_count": 86,
   "metadata": {},
   "outputs": [
    {
     "name": "stdout",
     "output_type": "stream",
     "text": [
      "[[ 2  3  5  7 11 13 17 19 23 29 31 37 41 43 47 53 59 61 62 63 64 65 66 67\n",
      "  68 69 70 71 72 73 74 75 76 77 78 79 80 81 82 83 84 85 89 97]]\n"
     ]
    }
   ],
   "source": [
    "# to use r which is obtained by fast_R as above, we could find the trajectory matrix.\n",
    "# I modified r_2_traj() function in 2b - 4(c)\n",
    "\n",
    "def r_2_traj_fast(r, N):\n",
    "    traj_list = []     # make an empty list to append some values.\n",
    "    \n",
    "    for i in range(N-1):\n",
    "        if r[0,i] == 1:               # if there is an 1 as an element,\n",
    "            traj_list.append(i+1)     # append the index + 1 to empty list. (python indexing)\n",
    "    \n",
    "    return np.array([traj_list])\n",
    "\n",
    "traj_fast = r_2_traj_fast(r, N)\n",
    "print(traj_fast)"
   ]
  },
  {
   "cell_type": "code",
   "execution_count": 87,
   "metadata": {},
   "outputs": [
    {
     "name": "stdout",
     "output_type": "stream",
     "text": [
      "[[ 2.  4.  6.  9. 12. 15. 18. 21. 25. 30. 33. 39. 42. 45. 49. 55. 60. 61.\n",
      "  62. 63. 64. 65. 66. 67. 68. 69. 70. 71. 72. 73. 74. 75. 76. 77. 78. 79.\n",
      "  80. 81. 82. 83. 84. 87. 91. 99.]]\n"
     ]
    }
   ],
   "source": [
    "# find new trajectory matrix related to r, Traj, vel\n",
    "# I modified new_position() function in 2b - 1\n",
    "\n",
    "def new_position2(r, Traj, vel):\n",
    "    new_traj = np.zeros(Traj.shape[1])\n",
    "    \n",
    "    for i in range(vel.shape[1]):\n",
    "        for k in range(Traj.shape[1]):\n",
    "            j = int(Traj[0,k] % r.shape[1] - 1)\n",
    "            \n",
    "            # first we have to divide into 2 conditions to find the step related to speed.\n",
    "            # when speed is 2, it could move 2 steps if possible.\n",
    "            \n",
    "            if vel[0, i] == 2:\n",
    "                \n",
    "                # The cars with speed 2 can move to forward 2 steps, so we have to consider last two cells.\n",
    "                # Therefore, I divided it into 3 conditions, \n",
    "                # when j == -1 (last cell), when j == r.shape[1]-2 (the second last cell) and rest of them.\n",
    "                \n",
    "                if j == -1:\n",
    "                    \n",
    "                    if r[0,0] != 0:  \n",
    "                    # the first cell could be 0 or 1 or 2, we could not specify just one number.\n",
    "                        new_traj[k] = Traj[0,k]\n",
    "                    else:\n",
    "                        if r[0,1] == 0:\n",
    "                            new_traj[k] = Traj[0,k] + 2  \n",
    "                        # when the first cell and the second cell are both 0, it could move 2 steps.\n",
    "                        else:\n",
    "                            new_traj[k] = Traj[0,k] + 1\n",
    "                        # when the first cell is 0 and the second cell has value, it could move 1 steps.\n",
    "                \n",
    "                \n",
    "                # now it is similar logic as above.\n",
    "                elif j == r.shape[1] - 2:\n",
    "                    if r[0, j+1] != 0:\n",
    "                        new_traj[k] = Traj[0,k]\n",
    "                    elif r[0, j+1] == 0 and r[0,0] == 0:\n",
    "                        new_traj[k] = Traj[0,k] + 2\n",
    "                    elif r[0, j+1] == 0 and r[0,0] != 0:\n",
    "                        new_traj[k] = Traj[0,k] + 1\n",
    "                \n",
    "                \n",
    "                else:\n",
    "                    if r[0,j+1] != 0:\n",
    "                        new_traj[k] = Traj[0,k]\n",
    "                    elif r[0, j+1] == 0 and r[0, j+2] == 0:\n",
    "                        new_traj[k] = Traj[0,k] + 2\n",
    "                    elif r[0, j+1] == 0 and r[0, j+2] != 0:\n",
    "                        new_traj[k] = Traj[0,k] + 1\n",
    "            \n",
    "            elif vel[0, i] == 1:  # same logic with new_position()\n",
    "                \n",
    "                if j == -1:\n",
    "                    if r[0,0] != 0:\n",
    "                        new_traj[k] = Traj[0,k]\n",
    "                    else:\n",
    "                        new_traj[k] = Traj[0,k] + 1\n",
    "                \n",
    "                \n",
    "                else:\n",
    "                    if r[0,j+1] == 0:\n",
    "                        new_traj[k] = Traj[0,k] + 1\n",
    "                    else:\n",
    "                        new_traj[k] = Traj[0,k]\n",
    "    \n",
    "    new = np.stack((Traj[0], new_traj))\n",
    "                \n",
    "\n",
    "            \n",
    "    return np.array([new[-1,:]])\n",
    "\n",
    "np2 = new_position2(r, traj_fast, v)\n",
    "print(np2)"
   ]
  },
  {
   "cell_type": "code",
   "execution_count": 88,
   "metadata": {},
   "outputs": [
    {
     "name": "stdout",
     "output_type": "stream",
     "text": [
      "[[0. 1. 0. 1. 0. 1. 0. 0. 1. 0. 0. 1. 0. 0. 1. 0. 0. 1. 0. 0. 1. 0. 0. 0.\n",
      "  1. 0. 0. 0. 0. 1. 0. 0. 1. 0. 0. 0. 0. 0. 1. 0. 0. 1. 0. 0. 1. 0. 0. 0.\n",
      "  1. 0. 0. 0. 0. 0. 1. 0. 0. 0. 0. 1. 1. 1. 1. 1. 1. 1. 1. 1. 1. 1. 1. 1.\n",
      "  1. 1. 1. 1. 1. 1. 1. 1. 1. 1. 1. 1. 0. 0. 1. 0. 0. 0. 1. 0. 0. 0. 0. 0.\n",
      "  0. 0. 1. 0.]]\n"
     ]
    }
   ],
   "source": [
    "r = fast_R(N, v)\n",
    "np2 = new_position2(r, traj_fast, v)\n",
    "\n",
    "# using new_updateR() function, we could find easily new R.\n",
    "new_r = new_updateR(np2)\n",
    "print(new_r)"
   ]
  },
  {
   "cell_type": "code",
   "execution_count": 89,
   "metadata": {},
   "outputs": [
    {
     "name": "stdout",
     "output_type": "stream",
     "text": [
      "[[0. 2. 0. 2. 0. 2. 0. 0. 2. 0. 0. 2. 0. 0. 2. 0. 0. 2. 0. 0. 2. 0. 0. 0.\n",
      "  2. 0. 0. 0. 0. 2. 0. 0. 2. 0. 0. 0. 0. 0. 2. 0. 0. 2. 0. 0. 2. 0. 0. 0.\n",
      "  2. 0. 0. 0. 0. 0. 2. 0. 0. 0. 0. 2. 2. 2. 2. 2. 2. 2. 2. 2. 2. 2. 2. 2.\n",
      "  2. 2. 2. 2. 2. 2. 2. 2. 2. 2. 2. 2. 0. 0. 2. 0. 0. 0. 2. 0. 0. 0. 0. 0.\n",
      "  0. 0. 2. 0.]]\n"
     ]
    }
   ],
   "source": [
    "# make a function as similar with new_updateR() in 2b - 1.\n",
    "# This function considers all the speed is 2.\n",
    "def new_updateR_2(Traj_t):\n",
    "    \n",
    "    new_r = np.zeros(r.shape[1])\n",
    "    final_r = np.array([new_r])\n",
    "    \n",
    "    for i in range(Traj_t.shape[1]):\n",
    "        value = Traj_t[0,i]           \n",
    "        j = int(value % r.shape[1])    \n",
    "        final_r[0,j-1] = 2             \n",
    "    \n",
    "    return final_r\n",
    "\n",
    "n_r2 = new_updateR_2(np2)\n",
    "print(n_r2)"
   ]
  },
  {
   "cell_type": "code",
   "execution_count": 90,
   "metadata": {},
   "outputs": [],
   "source": [
    "new_r = new_updateR(np2)\n",
    "new_v = new_updateR_2(np2)\n",
    "\n",
    "# make a function to get the total matrices\n",
    "# this function is similar to modified_M_Traj(r, F_Traj, T) function.\n",
    "def r_v_matrix(v,r,traj,t):\n",
    "    '''\n",
    "    Return the whole matrices, vel and r\n",
    "    '''\n",
    "    \n",
    "    # not to lose the data which we are taken.\n",
    "    v2 = v\n",
    "    r2 = r\n",
    "    traj2 = traj\n",
    "    \n",
    "    # to make whole matrices, taking some related functions to get the values\n",
    "    np2 = new_position2(r, traj_fast, v)\n",
    "    new_r = new_updateR(np2)\n",
    "    new_v = new_updateR_2(np2)\n",
    "    stack1 = np.row_stack((v, new_v))\n",
    "    stack2 = np.row_stack((r, new_r))\n",
    "    \n",
    "    for i in range(t-2): \n",
    "        \n",
    "        # we already make a 2 rows outside of for loot,\n",
    "        # so if I want to get with T rows, repeat T-2.\n",
    "        # and at the end, to get the matrix with column vectors, I do transpose it.\n",
    "        \n",
    "        np2 = new_position2(new_r, np2, new_v)\n",
    "        new_r = new_updateR(np2)\n",
    "        new_v = new_updateR_2(np2)\n",
    "        stack1 = np.row_stack((stack1, new_v))\n",
    "        stack2 = np.row_stack((stack2, new_r))\n",
    "    \n",
    "    stack_v = np.transpose(stack1)\n",
    "    stack_r = np.transpose(stack2)\n",
    "    \n",
    "    return stack_r, stack_v\n",
    "\n",
    "s_r, s_v = r_v_matrix(v,r,traj_fast, T)"
   ]
  },
  {
   "cell_type": "code",
   "execution_count": 91,
   "metadata": {},
   "outputs": [
    {
     "data": {
      "image/png": "[encoded data removed]",
      "text/plain": [
       "<Figure size 720x720 with 1 Axes>"
      ]
     },
     "metadata": {
      "needs_background": "light"
     },
     "output_type": "display_data"
    }
   ],
   "source": [
    "# drawing a plot\n",
    "import matplotlib.pylab as plt \n",
    "fig, (ax1) = plt.subplots(1, 1, figsize=(10,10))\n",
    "\n",
    "ax1.imshow(s_r[:,:T])\n",
    "\n",
    "plt.show()"
   ]
  },
  {
   "cell_type": "markdown",
   "metadata": {},
   "source": [
    "2) Now put fast cars initially in the prime indexed cells only like those in the last question, but this time make the last car (in cell 97) slow (i.e. moving only one cell per step). How does this car affect the whole traffic flow?"
   ]
  },
  {
   "cell_type": "code",
   "execution_count": 92,
   "metadata": {},
   "outputs": [],
   "source": [
    "### 2\n",
    "\n",
    "N = 100\n",
    "T = 60\n",
    "\n",
    "# similar to vel() function, I modified it to get the last car slow.\n",
    "# and we don't need (60, 85] condition.\n",
    "def vel_2(N):\n",
    "    row = np.zeros(N)\n",
    "    \n",
    "    for i in range(N):\n",
    "        if i == N - 1:        # when 'i' represents the last cell,\n",
    "            row[i] = 1      # I put the value 1 into i-th of row\n",
    "            \n",
    "        elif is_prime(i + 1) == True:  # from now, it is similar to vel()\n",
    "            row[i] = 2\n",
    "        else:\n",
    "            row[i] = 0\n",
    "    \n",
    "    return np.array([row])\n",
    "\n",
    "\n",
    "v2 = vel_2(N)\n",
    "\n",
    "#print(v2)"
   ]
  },
  {
   "cell_type": "code",
   "execution_count": 93,
   "metadata": {},
   "outputs": [
    {
     "data": {
      "image/png": "[encoded data removed]",
      "text/plain": [
       "<Figure size 720x720 with 1 Axes>"
      ]
     },
     "metadata": {
      "needs_background": "light"
     },
     "output_type": "display_data"
    }
   ],
   "source": [
    "# same logic with 2c - 1\n",
    "\n",
    "r2 = fast_R(N, v2)\n",
    "traj_fast2 = r_2_traj_fast(r2, N)\n",
    "np2 = new_position2(r2, traj_fast2, v2)\n",
    "s_v, s_r = r_v_matrix(v2,r2,traj_fast2, T)\n",
    "\n",
    "\n",
    "\n",
    "import matplotlib.pylab as plt \n",
    "fig, (ax1) = plt.subplots(1, 1, figsize=(10,10))\n",
    "\n",
    "ax1.imshow(s_r[:,:T])\n",
    "\n",
    "plt.show()"
   ]
  },
  {
   "cell_type": "markdown",
   "metadata": {},
   "source": [
    "    When there are cars between (60, 85], there are whole block on the road about 20 cars at every time.  On the other hand, when there is no cars between that interval, the cars could move more smoothly compared to previous model. There are also some blocks in this model but it could be fine, because they are very small congestion and there are some gaps between congestion. It would be much better compared to previous model. \n",
    "    \n",
    "    The reason they have different model, we put more cars on question 2c-1 compared to 2c-2. So, it is obvious that the first one have heavy traffic congestion."
   ]
  },
  {
   "cell_type": "markdown",
   "metadata": {},
   "source": [
    "3) By running the simulation up to $T = 100$, calculate the average velocity of the cars at this final time."
   ]
  },
  {
   "cell_type": "code",
   "execution_count": 94,
   "metadata": {},
   "outputs": [
    {
     "name": "stdout",
     "output_type": "stream",
     "text": [
      "[[  2.   2.   3. ...  98.  99. 100.]\n",
      " [  3.   4.   5. ... 100. 101. 102.]\n",
      " [  5.   6.   7. ... 102. 103. 104.]\n",
      " ...\n",
      " [ 83.  84.  85. ... 180. 181. 182.]\n",
      " [ 89.  90.  91. ... 186. 187. 188.]\n",
      " [ 97.  98.  99. ... 194. 195. 196.]]\n"
     ]
    }
   ],
   "source": [
    "# this function is quite similar logic with r_v_matrix() function.\n",
    "\n",
    "def Traj_F(r, F_Traj, vel, T):\n",
    "    '''\n",
    "    Return new whole matrix of all trajectories.\n",
    "    '''\n",
    "    \n",
    "    r2 = r\n",
    "    F_Traj2 = F_Traj\n",
    "    \n",
    "    F_Traj = new_position2(r, F_Traj, vel)\n",
    "    r = new_updateR(F_Traj)\n",
    "    s = np.row_stack((F_Traj2, F_Traj))\n",
    "    \n",
    "    \n",
    "    for i in range(T-2):        \n",
    "        # above 'for loop', we get a matrix with two rows. => repeat as much as T-2\n",
    "        \n",
    "        F_Traj = new_position2(r, F_Traj, vel)\n",
    "        r = new_updateR(F_Traj)\n",
    "        s = np.row_stack((s, F_Traj))\n",
    "        \n",
    "    return np.transpose(s)\n",
    "\n",
    "\n",
    "T = 100\n",
    "u = Traj_F(r2, traj_fast2, v2, T)\n",
    "print(u)"
   ]
  },
  {
   "cell_type": "code",
   "execution_count": 95,
   "metadata": {},
   "outputs": [
    {
     "data": {
      "image/png": "[encoded data removed]",
      "text/plain": [
       "<Figure size 432x288 with 1 Axes>"
      ]
     },
     "metadata": {
      "needs_background": "light"
     },
     "output_type": "display_data"
    }
   ],
   "source": [
    "average = ave_vel(u, T)\n",
    "#print(average)\n",
    "\n",
    "plt.plot(range(T-1),average)\n",
    "plt.show()"
   ]
  },
  {
   "cell_type": "markdown",
   "metadata": {},
   "source": [
    "It would not take that much to reach final average speed. Around T = 1 or 2, it reaches to final average speed."
   ]
  }
 ],
 "metadata": {
  "kernelspec": {
   "display_name": "Python 3",
   "language": "python",
   "name": "python3"
  },
  "language_info": {
   "codemirror_mode": {
    "name": "ipython",
    "version": 3
   },
   "file_extension": ".py",
   "mimetype": "text/x-python",
   "name": "python",
   "nbconvert_exporter": "python",
   "pygments_lexer": "ipython3",
   "version": "3.7.6"
  }
 },
 "nbformat": 4,
 "nbformat_minor": 2
}
